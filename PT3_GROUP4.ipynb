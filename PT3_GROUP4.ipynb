{
  "nbformat": 4,
  "nbformat_minor": 0,
  "metadata": {
    "colab": {
      "provenance": [],
      "authorship_tag": "ABX9TyP/bNlcFguL6CuGI7Ym61kk",
      "include_colab_link": true
    },
    "kernelspec": {
      "name": "python3",
      "display_name": "Python 3"
    },
    "language_info": {
      "name": "python"
    }
  },
  "cells": [
    {
      "cell_type": "markdown",
      "metadata": {
        "id": "view-in-github",
        "colab_type": "text"
      },
      "source": [
        "<a href=\"https://colab.research.google.com/github/Academy-317-group-4/pt3/blob/main/PT3_GROUP4.ipynb\" target=\"_parent\"><img src=\"https://colab.research.google.com/assets/colab-badge.svg\" alt=\"Open In Colab\"/></a>"
      ]
    },
    {
      "cell_type": "markdown",
      "source": [
        "### ПЗ 3"
      ],
      "metadata": {
        "id": "an9zjttxV854"
      }
    },
    {
      "cell_type": "code",
      "execution_count": 2,
      "metadata": {
        "colab": {
          "base_uri": "https://localhost:8080/"
        },
        "id": "kL6zRGjEV7QS",
        "outputId": "b10d8944-3613-41fc-f39f-ae388c1164d2"
      },
      "outputs": [
        {
          "output_type": "stream",
          "name": "stdout",
          "text": [
            "Collecting fuzzywuzzy\n",
            "  Downloading fuzzywuzzy-0.18.0-py2.py3-none-any.whl.metadata (4.9 kB)\n",
            "Downloading fuzzywuzzy-0.18.0-py2.py3-none-any.whl (18 kB)\n",
            "Installing collected packages: fuzzywuzzy\n",
            "Successfully installed fuzzywuzzy-0.18.0\n"
          ]
        }
      ],
      "source": [
        "!pip install fuzzywuzzy"
      ]
    },
    {
      "cell_type": "code",
      "source": [
        "from fuzzywuzzy import fuzz\n",
        "from fuzzywuzzy import process"
      ],
      "metadata": {
        "colab": {
          "base_uri": "https://localhost:8080/"
        },
        "id": "81D6A9QhWBrx",
        "outputId": "ae6f73a5-015d-41c7-ab9c-4c80ca7a1de3"
      },
      "execution_count": 3,
      "outputs": [
        {
          "output_type": "stream",
          "name": "stderr",
          "text": [
            "/usr/local/lib/python3.10/dist-packages/fuzzywuzzy/fuzz.py:11: UserWarning: Using slow pure-python SequenceMatcher. Install python-Levenshtein to remove this warning\n",
            "  warnings.warn('Using slow pure-python SequenceMatcher. Install python-Levenshtein to remove this warning')\n"
          ]
        }
      ]
    },
    {
      "cell_type": "code",
      "source": [
        "a = fuzz.ratio('Привет мир', 'Привет мир')\n",
        "print(a)\n",
        "#Выводит в консоль: 100"
      ],
      "metadata": {
        "colab": {
          "base_uri": "https://localhost:8080/"
        },
        "id": "-l5kIAlWWa7l",
        "outputId": "c82d7e2f-cd47-4aa3-bbed-2e4c215c7beb"
      },
      "execution_count": 4,
      "outputs": [
        {
          "output_type": "stream",
          "name": "stdout",
          "text": [
            "100\n"
          ]
        }
      ]
    },
    {
      "cell_type": "code",
      "source": [
        "a = fuzz.ratio('Привет мир', 'Привт кир')\n",
        "print(a)\n",
        "#Выводит в консоль: 84"
      ],
      "metadata": {
        "colab": {
          "base_uri": "https://localhost:8080/"
        },
        "id": "qdEFDf6OWk_P",
        "outputId": "4ebdf53b-adb4-4322-f228-41fd590687ea"
      },
      "execution_count": 5,
      "outputs": [
        {
          "output_type": "stream",
          "name": "stdout",
          "text": [
            "84\n"
          ]
        }
      ]
    },
    {
      "cell_type": "code",
      "source": [
        "a = fuzz.partial_ratio('Привет мир', 'Привет мир!')\n",
        "print(a)\n",
        "#Выводит в консоль: 100"
      ],
      "metadata": {
        "colab": {
          "base_uri": "https://localhost:8080/"
        },
        "id": "t1aaaYfOWnB6",
        "outputId": "ef82d842-ba39-4af3-cf65-64145bdde71a"
      },
      "execution_count": 6,
      "outputs": [
        {
          "output_type": "stream",
          "name": "stdout",
          "text": [
            "100\n"
          ]
        }
      ]
    },
    {
      "cell_type": "code",
      "source": [
        "a = fuzz.partial_ratio('Привет мир', 'Люблю колбасу, Привет мир')\n",
        "print(a)\n",
        "#Выводит в консоль: 100"
      ],
      "metadata": {
        "colab": {
          "base_uri": "https://localhost:8080/"
        },
        "id": "e9-3BMe0Wqo1",
        "outputId": "63cd4e6e-0798-400f-953f-df832d281e06"
      },
      "execution_count": 7,
      "outputs": [
        {
          "output_type": "stream",
          "name": "stdout",
          "text": [
            "100\n"
          ]
        }
      ]
    },
    {
      "cell_type": "code",
      "source": [
        "a = fuzz.partial_ratio('Привет мир', 'Люблю колбасу, привет мир')\n",
        "print(a)\n",
        "\n",
        "#Выводит в консоль: 90"
      ],
      "metadata": {
        "colab": {
          "base_uri": "https://localhost:8080/"
        },
        "id": "dy2wiI-iWvhp",
        "outputId": "1a132dc6-f99e-4dfa-d393-908e4ec73262"
      },
      "execution_count": 8,
      "outputs": [
        {
          "output_type": "stream",
          "name": "stdout",
          "text": [
            "90\n"
          ]
        }
      ]
    },
    {
      "cell_type": "code",
      "source": [
        "a = fuzz.token_sort_ratio('Привет наш мир', 'мир наш Привет')\n",
        "print(a)\n",
        "#Выводит в консоль: 100"
      ],
      "metadata": {
        "colab": {
          "base_uri": "https://localhost:8080/"
        },
        "id": "lLsKiprqWxpV",
        "outputId": "04230ca9-6c9e-452e-d91b-cc1a0153778b"
      },
      "execution_count": 9,
      "outputs": [
        {
          "output_type": "stream",
          "name": "stdout",
          "text": [
            "100\n"
          ]
        }
      ]
    },
    {
      "cell_type": "code",
      "source": [
        "a = fuzz.token_sort_ratio('Привет наш мир', 'мир наш любимый Привет')\n",
        "print(a)\n",
        "#Выводит в консоль: 78"
      ],
      "metadata": {
        "colab": {
          "base_uri": "https://localhost:8080/"
        },
        "id": "BkYmljHlWzvc",
        "outputId": "4afdd67d-ebf2-4eda-c977-fb0964a55aa2"
      },
      "execution_count": 10,
      "outputs": [
        {
          "output_type": "stream",
          "name": "stdout",
          "text": [
            "78\n"
          ]
        }
      ]
    },
    {
      "cell_type": "code",
      "source": [
        "a = fuzz.token_sort_ratio('1 2 Привет наш мир', '1 мир наш 2 ПриВЕт')\n",
        "print(a)\n",
        "#Выводит в консоль: 100"
      ],
      "metadata": {
        "colab": {
          "base_uri": "https://localhost:8080/"
        },
        "id": "-wg5i-0zW1Yh",
        "outputId": "e1bee881-8c1e-456a-8745-2bd6a63ddbf2"
      },
      "execution_count": 11,
      "outputs": [
        {
          "output_type": "stream",
          "name": "stdout",
          "text": [
            "100\n"
          ]
        }
      ]
    },
    {
      "cell_type": "code",
      "source": [
        "a = fuzz.token_set_ratio('Привет наш мир', 'мир мир наш наш наш ПриВЕт')\n",
        "print(a)\n",
        "#Выводит в консоль: 100"
      ],
      "metadata": {
        "colab": {
          "base_uri": "https://localhost:8080/"
        },
        "id": "zDjr3ANaW269",
        "outputId": "ee3837ff-a37f-4e70-c55d-15792724b929"
      },
      "execution_count": 12,
      "outputs": [
        {
          "output_type": "stream",
          "name": "stdout",
          "text": [
            "100\n"
          ]
        }
      ]
    },
    {
      "cell_type": "code",
      "source": [
        "a = fuzz.WRatio('Привет наш мир', '!ПриВЕт наш мир!')\n",
        "print(a)\n",
        "#Выводит в консоль: 100"
      ],
      "metadata": {
        "colab": {
          "base_uri": "https://localhost:8080/"
        },
        "id": "PEfb7EPEW4-j",
        "outputId": "cd1a519e-7497-4176-e70c-0e5dd5000802"
      },
      "execution_count": 13,
      "outputs": [
        {
          "output_type": "stream",
          "name": "stdout",
          "text": [
            "100\n"
          ]
        }
      ]
    },
    {
      "cell_type": "code",
      "source": [
        "a = fuzz.WRatio('Привет наш мир', '!ПриВЕт, наш мир!')\n",
        "print(a)\n",
        "#Выводит в консоль: 97"
      ],
      "metadata": {
        "colab": {
          "base_uri": "https://localhost:8080/"
        },
        "id": "X9Il7UfLW6kQ",
        "outputId": "45bc9dee-df49-4982-f3ca-ad2c59989c4f"
      },
      "execution_count": 14,
      "outputs": [
        {
          "output_type": "stream",
          "name": "stdout",
          "text": [
            "97\n"
          ]
        }
      ]
    },
    {
      "cell_type": "code",
      "source": [
        "city = [\"Москва\", \"Санкт-Петербург\", \"Саратов\", \"Краснодар\", \"Воронеж\", \"Омск\", \"Екатеринбург\", \"Орск\", \"Красногорск\", \"Красноярск\", \"Самара\"]\n",
        "a = process.extract(\"Саратов\", city, limit=2)\n",
        "# Параметр limit по умолчанию имеет значение 5\n",
        "print(a)\n",
        "#Выводит в консоль: [('Саратов', 100), ('Самара', 62)]"
      ],
      "metadata": {
        "colab": {
          "base_uri": "https://localhost:8080/"
        },
        "id": "VO88lI3BW8dD",
        "outputId": "9238b45a-7639-4336-cd74-abea0847c218"
      },
      "execution_count": 15,
      "outputs": [
        {
          "output_type": "stream",
          "name": "stdout",
          "text": [
            "[('Саратов', 100), ('Самара', 62)]\n"
          ]
        }
      ]
    },
    {
      "cell_type": "code",
      "source": [
        "city = [\"Москва\", \"Санкт-Петербург\", \"Саратов\", \"Краснодар\", \"Воронеж\", \"Омск\", \"Екатеринбург\", \"Орск\", \"Красногорск\", \"Красноярск\", \"Самара\"]\n",
        "a = process.extractOne(\"Краногрск\", city)\n",
        "print(a)\n",
        "#Выводит в консоль: ('Красногорск', 90)"
      ],
      "metadata": {
        "colab": {
          "base_uri": "https://localhost:8080/"
        },
        "id": "dqMkreckW-bY",
        "outputId": "09ee3e97-e99a-418b-b1ac-4ea2519e8680"
      },
      "execution_count": 16,
      "outputs": [
        {
          "output_type": "stream",
          "name": "stdout",
          "text": [
            "('Красногорск', 90)\n"
          ]
        }
      ]
    }
  ]
}